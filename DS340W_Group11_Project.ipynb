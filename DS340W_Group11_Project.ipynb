{
  "nbformat": 4,
  "nbformat_minor": 0,
  "metadata": {
    "colab": {
      "provenance": []
    },
    "kernelspec": {
      "name": "python3",
      "display_name": "Python 3"
    },
    "language_info": {
      "name": "python"
    }
  },
  "cells": [
    {
      "cell_type": "markdown",
      "source": [
        "# DS 340W PROJECT - HOUSE PRICE PREDICTION\n",
        "Group 10: Brianna Malone, and Alvaro Tapia\n"
      ],
      "metadata": {
        "id": "CBwU9g8h7ZFE"
      }
    },
    {
      "cell_type": "code",
      "execution_count": 1,
      "metadata": {
        "id": "mzeURLIL7Ve8"
      },
      "outputs": [],
      "source": [
        "# Importing all the necessary packages and files\n",
        "import os\n",
        "import numpy as np\n",
        "import pandas as pd\n",
        "import matplotlib.pyplot as plt\n",
        "from scipy.io import loadmat\n",
        "import warnings\n",
        "# ignore all warnings\n",
        "warnings.filterwarnings(\"ignore\")"
      ]
    },
    {
      "cell_type": "code",
      "source": [
        "from google.colab import drive\n",
        "drive.mount('/content/drive')"
      ],
      "metadata": {
        "id": "miTBqvI87mGj",
        "colab": {
          "base_uri": "https://localhost:8080/"
        },
        "outputId": "736b141a-7a81-4305-f8b9-4142eb6b0382"
      },
      "execution_count": 2,
      "outputs": [
        {
          "output_type": "stream",
          "name": "stdout",
          "text": [
            "Drive already mounted at /content/drive; to attempt to forcibly remount, call drive.mount(\"/content/drive\", force_remount=True).\n"
          ]
        }
      ]
    },
    {
      "cell_type": "code",
      "source": [
        "# Reading the datasets\n",
        "data = pd.read_csv(os.path.join('/content/drive/My Drive/DS340W', 'house_data.csv'), error_bad_lines=False)\n",
        "data.head()"
      ],
      "metadata": {
        "id": "y6l9eC0K7mI5"
      },
      "execution_count": null,
      "outputs": []
    },
    {
      "cell_type": "markdown",
      "source": [
        "# Performing Feature Importance and Feature Selection"
      ],
      "metadata": {
        "id": "Y6nTT2D2MMcU"
      }
    },
    {
      "cell_type": "code",
      "source": [
        "from sklearn.ensemble import RandomForestClassifier\n",
        "\n",
        "df = data.drop('id', axis=1)\n",
        "X = df.drop('TtlPrc', axis=1)\n",
        "y = df['TtlPrc']\n",
        "\n",
        "# Create and fit a Random Forest Classifier\n",
        "rf_classifier = RandomForestClassifier()\n",
        "rf_classifier.fit(X, y)\n",
        "\n",
        "# Get feature importances\n",
        "feature_importances = rf_classifier.feature_importances_\n",
        "\n",
        "# Create a DataFrame to store feature names and their importances\n",
        "importance_df = pd.DataFrame({'Feature': X.columns, 'Importance': feature_importances})\n",
        "\n",
        "# Sort the DataFrame by importance in ascending order\n",
        "importance_df = importance_df.sort_values(by='Importance')\n",
        "\n",
        "# Create a horizontal bar graph\n",
        "plt.figure(figsize=(10, 6))\n",
        "plt.barh(importance_df['Feature'], importance_df['Importance'])\n",
        "plt.xlabel('Importance')\n",
        "plt.ylabel('Feature')\n",
        "plt.title('Feature Importance (Random Forest)')\n",
        "plt.show()"
      ],
      "metadata": {
        "id": "YTHQMQ-34GzL"
      },
      "execution_count": null,
      "outputs": []
    },
    {
      "cell_type": "code",
      "source": [
        "# Filtering and removing unneccesary parameters for the purpose of investigation\n",
        "# Removing the number of amenities because it is ambiguous to say how many amenities are in a city, distance is more important.\n",
        "# Only including number of touristic atractions because that is the only amenity does that have an impact\n",
        "# Removing some emotion parameters (the least important) based on feature importance\n",
        "data = data.drop(['Elvt', 'KchNum', 'HllNum', 'EdcNum', 'HthNum', 'RtlNum', 'RstNum', 'DstPct', 'AgrPct'], axis=1)\n",
        "data.head(5)"
      ],
      "metadata": {
        "id": "Im3zbEzbAhvn"
      },
      "execution_count": null,
      "outputs": []
    },
    {
      "cell_type": "markdown",
      "source": [
        "# Correlation Matrix for Feature Comparison"
      ],
      "metadata": {
        "id": "XK2QpWOnMYbh"
      }
    },
    {
      "cell_type": "code",
      "source": [
        "# Creating Correlation Matrix\n",
        "\n",
        "import seaborn as sb\n",
        "\n",
        "# create a correlation matrix of the features\n",
        "corr_matrix = round(df.corr(), 2)\n",
        "\n",
        "# create heatmap\n",
        "sb.heatmap(corr_matrix, annot=True, cmap='YlGnBu')\n",
        "plt.show()"
      ],
      "metadata": {
        "id": "36yO9inBMGHZ"
      },
      "execution_count": null,
      "outputs": []
    },
    {
      "cell_type": "markdown",
      "source": [
        "# Linear Model for Feature Comparison"
      ],
      "metadata": {
        "id": "KRUNSEKESsLU"
      }
    },
    {
      "cell_type": "code",
      "source": [
        "# PRICE VS EMOTION\n",
        "from sklearn.linear_model import Lasso\n",
        "\n",
        "X = df[['HppPct', 'SadPct', 'FeaPct']]  # Independent variables\n",
        "y = df['TtlPrc']  # Dependent variable\n",
        "\n",
        "# Create a Lasso regression model\n",
        "lasso = Lasso(alpha=1.0)  # Adjust the alpha (regularization strength) as needed\n",
        "\n",
        "# Fit the model\n",
        "lasso.fit(X, y)\n",
        "\n",
        "# Get the coefficients of the features\n",
        "feature_coefficients = lasso.coef_\n",
        "\n",
        "# Names of the features\n",
        "feature_names = X.columns\n",
        "\n",
        "# Create a bar chart to compare the coefficients\n",
        "plt.figure(figsize=(8, 6))\n",
        "plt.barh(feature_names, feature_coefficients)\n",
        "plt.xlabel('Price')\n",
        "plt.ylabel('Emotion Features')\n",
        "plt.title('Lasso Regression Emotion vs. Price')\n",
        "plt.show()"
      ],
      "metadata": {
        "id": "glQ4eKwvPcN_"
      },
      "execution_count": null,
      "outputs": []
    },
    {
      "cell_type": "code",
      "source": [
        "# PRICE VS NEIGHBORHOOD\n",
        "\n",
        "X = df[['TspDst', 'AtrDst', 'EdcDst', 'HthDst', 'RstDst', 'RtlDst']]  # Independent variables\n",
        "y = df['TtlPrc']  # Dependent variable\n",
        "\n",
        "# Create a Lasso regression model\n",
        "lasso = Lasso(alpha=1.0)  # Adjust the alpha (regularization strength) as needed\n",
        "\n",
        "# Fit the model\n",
        "lasso.fit(X, y)\n",
        "\n",
        "# Get the coefficients of the features\n",
        "feature_coefficients = lasso.coef_\n",
        "\n",
        "# Names of the features\n",
        "feature_names = X.columns\n",
        "\n",
        "# Create a bar chart to compare the coefficients\n",
        "plt.figure(figsize=(8, 6))\n",
        "plt.barh(feature_names, feature_coefficients)\n",
        "plt.xlabel('Price')\n",
        "plt.ylabel('Neighborhood Features')\n",
        "plt.title('Lasso Regression Neighborhood vs. Price')\n",
        "plt.show()"
      ],
      "metadata": {
        "id": "zdSCgdg0T94K"
      },
      "execution_count": null,
      "outputs": []
    },
    {
      "cell_type": "code",
      "source": [
        "# PRICE VS NOISE/TRAFFIC\n",
        "\n",
        "X = df['TrfV']  # Independent variables\n",
        "y = df['TtlPrc']  # Dependent variable\n",
        "\n",
        "# Create a Lasso regression model\n",
        "lasso = Lasso(alpha=1.0)  # Adjust the alpha (regularization strength) as needed\n",
        "\n",
        "# Fit the model\n",
        "lasso.fit(X, y)\n",
        "\n",
        "# Get the coefficients and intercept\n",
        "coeff = lasso.coef_\n",
        "intercept = lasso.intercept_\n",
        "\n",
        "# Predict using the Lasso model\n",
        "y_pred = lasso.predict(X)\n",
        "\n",
        "# Create a scatter plot with the Lasso regression line\n",
        "plt.figure(figsize=(8, 6))\n",
        "plt.scatter(X, y, label='Data Points', color='b')\n",
        "plt.plot(X, y_pred, label='Lasso Regression Line', color='r')\n",
        "plt.xlabel('Noise/Traffic')\n",
        "plt.ylabel('Price')\n",
        "plt.legend()\n",
        "plt.title('Lasso Regression: Price vs. Noise/Traffic')\n",
        "plt.show()"
      ],
      "metadata": {
        "id": "iEz2KXPdS_hm"
      },
      "execution_count": null,
      "outputs": []
    },
    {
      "cell_type": "markdown",
      "source": [
        "# Splitting process for modeling"
      ],
      "metadata": {
        "id": "3AWolqf9MSl_"
      }
    },
    {
      "cell_type": "code",
      "source": [
        "from sklearn.model_selection import train_test_split\n",
        "# Split the data into train, test, and validation sets\n",
        "# Here, the code is splitted into training (70%), testing (15%), and validation (15%) sets.\n",
        "X_train, X_temp, y_train, y_temp = train_test_split(X, y, test_size=0.3, random_state=42)\n",
        "X_test, X_val, y_test, y_val = train_test_split(X_temp, y_temp, test_size=0.5, random_state=42)\n",
        "\n",
        "# Check the shapes of the resulting sets\n",
        "print(\"Train set shape:\", X_train.shape, y_train.shape)\n",
        "print(\"Test set shape:\", X_test.shape, y_test.shape)\n",
        "print(\"Validation set shape:\", X_val.shape, y_val.shape)"
      ],
      "metadata": {
        "id": "WfdbSKFx8Y16"
      },
      "execution_count": null,
      "outputs": []
    },
    {
      "cell_type": "markdown",
      "source": [
        "# Modeling with SVM"
      ],
      "metadata": {
        "id": "uyTLgNqMEOt4"
      }
    },
    {
      "cell_type": "code",
      "source": [
        "from sklearn.svm import SVC\n",
        "from sklearn.metrics import mean_squared_error, mean_absolute_error, accuracy_score\n",
        "from math import sqrt\n",
        "\n",
        "# Reloading the pre split dataset with values: X_train, X_test, X_val, y_train, y_test, y_val\n",
        "\n",
        "# Create an SVM model\n",
        "svm_model = SVC(kernel='linear', random_state=42)\n",
        "\n",
        "# Fit the model on the training data\n",
        "svm_model.fit(X_train, y_train)\n",
        "\n",
        "# Predict on the validation and test sets\n",
        "y_val_pred = svm_model.predict(X_val)\n",
        "y_test_pred = svm_model.predict(X_test)\n",
        "\n",
        "# Calculate RMSE and MAE for validation set\n",
        "svm_rmse_val = sqrt(mean_squared_error(y_val, y_val_pred))\n",
        "svm_mae_val = mean_absolute_error(y_val, y_val_pred)\n",
        "\n",
        "# Calculate accuracy for validation and test sets\n",
        "svm_accuracy_val = accuracy_score(y_val, y_val_pred)\n",
        "svm_accuracy_test = accuracy_score(y_test, y_test_pred)\n",
        "\n",
        "print(\"Validation RMSE:\", svm_rmse_val)\n",
        "print(\"Validation MAE:\", svm_mae_val)\n",
        "print(\"Validation Accuracy:\", svm_accuracy_val)\n",
        "print(\"Test Accuracy:\", svm_accuracy_test)"
      ],
      "metadata": {
        "id": "D-rUUdKC9tPv"
      },
      "execution_count": null,
      "outputs": []
    },
    {
      "cell_type": "code",
      "source": [
        "# If the above code doesnt work, use this one:\n",
        "from sklearn import svm\n",
        "\n",
        "# Define the SVM model\n",
        "clf = svm.SVC(kernel='rbf')\n",
        "\n",
        "# Train the SVM model\n",
        "clf.fit(X_train, y_train)\n",
        "\n",
        "# Predict on the validation and test sets\n",
        "y_val_pred = clf.predict(X_val)\n",
        "y_test_pred = clf.predict(X_test)\n",
        "\n",
        "# Calculate RMSE and MAE for validation set\n",
        "svm_rmse_val = sqrt(mean_squared_error(y_val, y_val_pred))\n",
        "svm_mae_val = mean_absolute_error(y_val, y_val_pred)\n",
        "\n",
        "# Calculate accuracy for validation and test sets\n",
        "svm_accuracy_val = accuracy_score(y_val, y_val_pred)\n",
        "svm_accuracy_test = accuracy_score(y_test, y_test_pred)\n",
        "\n",
        "print(\"Validation RMSE:\", svm_rmse_val)\n",
        "print(\"Validation MAE:\", svm_mae_val)\n",
        "print(\"Validation Accuracy:\", svm_accuracy_val)\n",
        "print(\"Test Accuracy:\", svm_accuracy_test)"
      ],
      "metadata": {
        "id": "Qp3YJ7lx9tRt"
      },
      "execution_count": null,
      "outputs": []
    },
    {
      "cell_type": "markdown",
      "source": [
        "# Modeling with RANDOM FOREST"
      ],
      "metadata": {
        "id": "aeui2EEYESPo"
      }
    },
    {
      "cell_type": "code",
      "source": [
        "from sklearn.ensemble import RandomForestRegressor\n",
        "\n",
        "# Create a Random Forest regression model\n",
        "rf_regressor = RandomForestRegressor(random_state=42)\n",
        "\n",
        "# Fit the model on the training data\n",
        "rf_regressor.fit(X_train, y_train)\n",
        "\n",
        "# Predict on the validation and test sets\n",
        "y_val_pred = rf_regressor.predict(X_val)\n",
        "y_test_pred = rf_regressor.predict(X_test)\n",
        "\n",
        "# Calculate RMSE and MAE for the validation set\n",
        "forest_rmse_val = sqrt(mean_squared_error(y_val, y_val_pred))\n",
        "forest_mae_val = mean_absolute_error(y_val, y_val_pred)\n",
        "\n",
        "# Calculate accuracy for validation and test sets\n",
        "forest_accuracy_val = accuracy_score(y_val, y_val_pred)\n",
        "forest_accuracy_test = accuracy_score(y_test, y_test_pred)\n",
        "\n",
        "print(\"Validation RMSE:\", forest_rmse_val)\n",
        "print(\"Validation MAE:\", forest_mae_val)\n",
        "print(\"Validation Accuracy:\", forest_accuracy_val)\n",
        "print(\"Test Accuracy:\", forest_accuracy_test)"
      ],
      "metadata": {
        "id": "u9dSK6Yj9tUA"
      },
      "execution_count": null,
      "outputs": []
    },
    {
      "cell_type": "code",
      "source": [
        "# Again, if the code above doesnt work, use this one\n",
        "from sklearn.ensemble import RandomForestClassifier\n",
        "\n",
        "# Define the Random Forest model\n",
        "clf = RandomForestClassifier(n_estimators=100, random_state=42)\n",
        "\n",
        "# Train the Random Forest model\n",
        "clf.fit(X_train, y_train)\n",
        "\n",
        "# Predict on the validation and test sets\n",
        "y_val_pred = clf.predict(X_val)\n",
        "y_test_pred = clf.predict(X_test)\n",
        "\n",
        "# Calculate RMSE and MAE for the validation set\n",
        "rforest_rmse_val = sqrt(mean_squared_error(y_val, y_val_pred))\n",
        "rforest_mae_val = mean_absolute_error(y_val, y_val_pred)\n",
        "\n",
        "# Calculate RMSE and MAE for the test set\n",
        "rforest_rmse_test = sqrt(mean_squared_error(y_test, y_test_pred))\n",
        "rforest_mae_test = mean_absolute_error(y_test, y_test_pred)\n",
        "\n",
        "print(\"Validation RMSE:\", rforest_rmse_val)\n",
        "print(\"Validation MAE:\", rforest_mae_val)\n",
        "print(\"Test RMSE:\", rforest_rmse_test)\n",
        "print(\"Test MAE:\", rforest_mae_test)"
      ],
      "metadata": {
        "id": "4_rHfibQF60d"
      },
      "execution_count": null,
      "outputs": []
    },
    {
      "cell_type": "markdown",
      "source": [
        "# Modeling with DECISION TREES"
      ],
      "metadata": {
        "id": "Ga16di5AGQ6j"
      }
    },
    {
      "cell_type": "code",
      "source": [
        "from sklearn.tree import DecisionTreeClassifier\n",
        "\n",
        "dt_classifier = DecisionTreeClassifier(random_state=42)\n",
        "\n",
        "# Fit the model on the training data\n",
        "dt_classifier.fit(X_train, y_train)\n",
        "\n",
        "# Predict on the validation and test sets\n",
        "y_val_pred = dt_classifier.predict(X_val)\n",
        "y_test_pred = dt_classifier.predict(X_test)\n",
        "\n",
        "# Calculate RMSE and MAE for the validation set\n",
        "trees_rmse_val = sqrt(mean_squared_error(y_val, y_val_pred))\n",
        "trees_mae_val = mean_absolute_error(y_val, y_val_pred)\n",
        "\n",
        "# Calculate accuracy for validation and test sets\n",
        "trees_accuracy_val = accuracy_score(y_val, y_val_pred)\n",
        "trees_accuracy_test = accuracy_score(y_test, y_test_pred)\n",
        "\n",
        "print(\"Validation RMSE:\", trees_rmse_val)\n",
        "print(\"Validation MAE:\", trees_mae_val)\n",
        "print(\"Validation Accuracy:\", trees_accuracy_val)\n",
        "print(\"Test Accuracy:\", trees_accuracy_test)"
      ],
      "metadata": {
        "id": "PtkW5WpGGRHB"
      },
      "execution_count": null,
      "outputs": []
    },
    {
      "cell_type": "code",
      "source": [
        "# Again if that doesnt work, use this code\n",
        "\n",
        "from sklearn.tree import DecisionTreeRegressor\n",
        "\n",
        "dt_regressor = DecisionTreeRegressor(random_state=42)\n",
        "\n",
        "# Fit the model on the training data\n",
        "dt_regressor.fit(X_train, y_train)\n",
        "\n",
        "# Predict on the validation and test sets\n",
        "y_val_pred = dt_regressor.predict(X_val)\n",
        "y_test_pred = dt_regressor.predict(X_test)\n",
        "\n",
        "# Calculate RMSE and MAE for the validation set\n",
        "dtrees_rmse_val = sqrt(mean_squared_error(y_val, y_val_pred))\n",
        "dtrees_mae_val = mean_absolute_error(y_val, y_val_pred)\n",
        "\n",
        "# Calculate RMSE and MAE for the test set\n",
        "dtrees_rmse_test = sqrt(mean_squared_error(y_test, y_test_pred))\n",
        "dtrees_mae_test = mean_absolute_error(y_test, y_test_pred)\n",
        "\n",
        "print(\"Validation RMSE:\", dtrees_rmse_val)\n",
        "print(\"Validation MAE:\", dtrees_mae_val)\n",
        "print(\"Test RMSE:\", dtrees_rmse_test)\n",
        "print(\"Test MAE:\", dtrees_mae_test)"
      ],
      "metadata": {
        "id": "u3X-uzyyGRPu"
      },
      "execution_count": null,
      "outputs": []
    },
    {
      "cell_type": "markdown",
      "source": [
        "# Modeling for XGBOOST"
      ],
      "metadata": {
        "id": "KoqQv-z6J1_v"
      }
    },
    {
      "cell_type": "code",
      "source": [
        "from xgboost import XGBRegressor\n",
        "\n",
        "# Create an XGBoost regressor model\n",
        "xgb_regressor = XGBRegressor(random_state=42)\n",
        "\n",
        "# Fit the model on the training data\n",
        "xgb_regressor.fit(X_train, y_train)\n",
        "\n",
        "# Predict on the validation and test sets\n",
        "y_val_pred = xgb_regressor.predict(X_val)\n",
        "y_test_pred = xgb_regressor.predict(X_test)\n",
        "\n",
        "# Calculate RMSE and MAE for the validation set\n",
        "XGBreg_rmse_val = sqrt(mean_squared_error(y_val, y_val_pred))\n",
        "XGBreg_mae_val = mean_absolute_error(y_val, y_val_pred)\n",
        "\n",
        "# Calculate RMSE and MAE for the test set\n",
        "XGBreg_rmse_test = sqrt(mean_squared_error(y_test, y_test_pred))\n",
        "XGBreg_mae_test = mean_absolute_error(y_test, y_test_pred)\n",
        "\n",
        "print(\"Validation RMSE:\", XGBreg_rmse_val)\n",
        "print(\"Validation MAE:\", XGBreg_mae_val)\n",
        "print(\"Test RMSE:\", XGBreg_rmse_test)\n",
        "print(\"Test MAE:\", XGBreg_mae_test)"
      ],
      "metadata": {
        "id": "BNwQur6kJ1m0"
      },
      "execution_count": null,
      "outputs": []
    },
    {
      "cell_type": "code",
      "source": [
        "# Other methods\n",
        "\n",
        "from xgboost import XGBClassifier\n",
        "\n",
        "# Create an XGBoost classifier model\n",
        "xgb_classifier = XGBClassifier(random_state=42)\n",
        "\n",
        "# Fit the model on the training data\n",
        "xgb_classifier.fit(X_train, y_train)\n",
        "\n",
        "# Predict on the validation and test sets\n",
        "y_val_pred = xgb_classifier.predict(X_val)\n",
        "y_test_pred = xgb_classifier.predict(X_test)\n",
        "\n",
        "# Calculate RMSE and MAE for the validation set\n",
        "XGBcla_rmse_val = sqrt(mean_squared_error(y_val, y_val_pred))\n",
        "XGBcla_mae_val = mean_absolute_error(y_val, y_val_pred)\n",
        "\n",
        "# Calculate accuracy for validation and test sets\n",
        "XGBcla_accuracy_val = accuracy_score(y_val, y_val_pred)\n",
        "XGBcla_accuracy_test = accuracy_score(y_test, y_test_pred)\n",
        "\n",
        "print(\"Validation RMSE:\", XGBcla_rmse_val)\n",
        "print(\"Validation MAE:\", XGBcla_mae_val)\n",
        "print(\"Validation Accuracy:\", XGBcla_accuracy_val)\n",
        "print(\"Test Accuracy:\", XGBcla_accuracy_test)"
      ],
      "metadata": {
        "id": "PpZudmldJ1ri"
      },
      "execution_count": null,
      "outputs": []
    },
    {
      "cell_type": "markdown",
      "source": [
        "# Modeling for LOGISTIC REGRESSION"
      ],
      "metadata": {
        "id": "h7-trQj0J5mI"
      }
    },
    {
      "cell_type": "code",
      "source": [
        "from sklearn.linear_model import LogisticRegression\n",
        "\n",
        "# Create a Logistic Regression model\n",
        "logistic_regression = LogisticRegression(random_state=42)\n",
        "\n",
        "# Fit the model on the training data\n",
        "logistic_regression.fit(X_train, y_train)\n",
        "\n",
        "# Predict on the validation and test sets\n",
        "y_val_pred = logistic_regression.predict(X_val)\n",
        "y_test_pred = logistic_regression.predict(X_test)\n",
        "\n",
        "# Calculate accuracy for validation and test sets\n",
        "LR_accuracy_val = accuracy_score(y_val, y_val_pred)\n",
        "LR_accuracy_test = accuracy_score(y_test, y_test_pred)\n",
        "\n",
        "print(\"Validation Accuracy:\", LR_accuracy_val)\n",
        "print(\"Test Accuracy:\", LR_accuracy_test)"
      ],
      "metadata": {
        "id": "Yujb4m6AJ838"
      },
      "execution_count": null,
      "outputs": []
    },
    {
      "cell_type": "markdown",
      "source": [
        "# Model Accuracy Comparison"
      ],
      "metadata": {
        "id": "R954xtSFVSz-"
      }
    },
    {
      "cell_type": "code",
      "source": [
        "# Define the data\n",
        "labels = ['SVM', 'Random Forest', 'Decision Trees', 'XGBoost Reg', 'Logistic Reg']\n",
        "values = [svm_accuracy_val, forest_accuracy_val, trees_accuracy_val, XGBcla_accuracy_val, LR_accuracy_val]\n",
        "\n",
        "# Create a bar plot with the specified values\n",
        "fig, ax = plt.subplots()\n",
        "ax.bar(labels, values)\n",
        "\n",
        "# Set the plot title and axis labels\n",
        "ax.set_title('Accuracy Comparison', fontsize=18)\n",
        "ax.set_xlabel('Methods', fontsize=14)\n",
        "ax.set_ylabel('Accuracy', fontsize=14)\n",
        "ax.legend(['Methods'])\n",
        "\n",
        "# Set the range of the y-axis\n",
        "ax.set_ylim(0, 1)\n",
        "\n",
        "# Add annotations for each bar\n",
        "for i, v in enumerate(values):\n",
        "    ax.text(i, v + 0.01, str(v), ha='center', fontweight='bold')\n",
        "\n",
        "# Display the plot\n",
        "plt.show()"
      ],
      "metadata": {
        "id": "y1y3ZrkVVTbM"
      },
      "execution_count": null,
      "outputs": []
    },
    {
      "cell_type": "markdown",
      "source": [
        "# Model RMSE Comparison"
      ],
      "metadata": {
        "id": "YIxvuenwL8sk"
      }
    },
    {
      "cell_type": "code",
      "source": [
        "# Missing we have to see if the code runs first"
      ],
      "metadata": {
        "id": "UwdoyQNVJ9I0"
      },
      "execution_count": null,
      "outputs": []
    },
    {
      "cell_type": "markdown",
      "source": [
        "# Model MAE Comparison"
      ],
      "metadata": {
        "id": "hX1MAK5iVMRg"
      }
    },
    {
      "cell_type": "code",
      "source": [
        "# Missing we have to see if the code runs first"
      ],
      "metadata": {
        "id": "jrGkvOvGVMbG"
      },
      "execution_count": null,
      "outputs": []
    },
    {
      "cell_type": "code",
      "source": [
        "# Done!"
      ],
      "metadata": {
        "id": "cgMEDDJQVQXD"
      },
      "execution_count": null,
      "outputs": []
    }
  ]
}